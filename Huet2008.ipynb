{
 "metadata": {
  "name": "",
  "signature": "sha256:dea3d34922b6c4fb25b25c4722ed290d38aeb8a0751325176fdd170d692b8258"
 },
 "nbformat": 3,
 "nbformat_minor": 0,
 "worksheets": [
  {
   "cells": [
    {
     "cell_type": "code",
     "collapsed": false,
     "input": [
      "# Importing necessary libraries\n",
      "import random\n",
      "import numpy as np\n",
      "import matplotlib.pyplot as plt"
     ],
     "language": "python",
     "metadata": {},
     "outputs": [],
     "prompt_number": 1
    },
    {
     "cell_type": "code",
     "collapsed": false,
     "input": [
      "# Defining constant variables\n",
      "mu = 0.3 # constriction factor used to limit the convergence velocity\n",
      "delta = 1 # intolerance threshold\n",
      "no_of_runs = 1 # Number of times the whole model will be run \n",
      "max_iter = 500000 # maximum number of iteration at each run\n",
      "no_agents = 1000"
     ],
     "language": "python",
     "metadata": {},
     "outputs": [],
     "prompt_number": 2
    },
    {
     "cell_type": "code",
     "collapsed": false,
     "input": [
      "# Defining the psign function.\n",
      "def psign (x):\n",
      "    if x >= 0:\n",
      "        x = 1\n",
      "    else:\n",
      "        x = -1\n",
      "    return x"
     ],
     "language": "python",
     "metadata": {},
     "outputs": [],
     "prompt_number": 3
    },
    {
     "cell_type": "code",
     "collapsed": false,
     "input": [
      "\"\"\"\n",
      "Defining a class of agents.\n",
      "We represent each person as an agent in our model.\n",
      "Each agent has a following attributes:\n",
      "    1) Opinion: a list containing 2 real random number between -1 and 1 \n",
      "    2) Uncertainty: a list containing 2 real random number between 0 and 1\n",
      "\"\"\"\n",
      "\n",
      "class Agent(object):\n",
      "    \n",
      "# Defining the init method: a special method that gets invoked when an object is instantiated\n",
      "    def __init__(self):\n",
      "        self.opinion = [-1 + 2 * random.random() for op in range(2)]\n",
      "        self.U = 0.2\n",
      "\n",
      "    def Interact(self, peer):\n",
      "        # Calculating new opinion based on opinion interaction rules\n",
      "        op1_diff = abs (self.opinion[0] - peer.opinion[0])\n",
      "        op2_diff = abs (self.opinion[1] - peer.opinion[1])\n",
      "        \n",
      "        if op1_diff <= self.U and op2_diff <= self.U:\n",
      "            diff = list(np.array(peer.opinion) - np.array(self.opinion))\n",
      "            diff2 = [x * mu for x in diff]\n",
      "            self.opinion = list(np.array(self.opinion) + np.array(diff2))\n",
      "            \n",
      "        elif op1_diff > self.U and op2_diff <= self.U and op1_diff <= (1 + delta) * self.U:\n",
      "            self.opinion[1] = self.opinion[1] + mu * (peer.opinion[1] - self.opinion[1])\n",
      "            \n",
      "        elif op1_diff <= self.U and op2_diff > self.U and op2_diff <= (1 + delta) * self.U:       \n",
      "            self.opinion[0] = self.opinion[0] + mu * (peer.opinion[0] - self.opinion[0])\n",
      "            \n",
      "        elif op1_diff > self.U and op2_diff <= self.U and op1_diff > (1 + delta) * self.U:\n",
      "            self.opinion[1] = self.opinion[1] - mu * psign(peer.opinion[1] - self.opinion[1]) * (self.U - op2_diff)          \n",
      "\n",
      "        elif op1_diff <= self.U and op2_diff > self.U and op2_diff > (1 + delta) * self.U:\n",
      "            self.opinion[0] = self.opinion[0] - mu * psign(peer.opinion[0] - self.opinion[0]) * (self.U - op1_diff)\n",
      "   \n",
      "        # bounding the opinions between -1 and 1\n",
      "        for i in range(0,2):\n",
      "            if abs(self.opinion[i]) > 1: self.opinion[i] = psign(self.opinion[i])"
     ],
     "language": "python",
     "metadata": {},
     "outputs": [],
     "prompt_number": 4
    },
    {
     "cell_type": "code",
     "collapsed": false,
     "input": [
      "class Sim(object):\n",
      "    def __init__(self):\n",
      "        self.population = [Agent() for x in range(no_agents)]\n",
      "    \n",
      "    def Run(self):\n",
      "        for step in range(max_iter):\n",
      "            while True:\n",
      "                ag1 = random.randint(0, no_agents - 1)\n",
      "                ag2 = random.randint(0, no_agents - 1)\n",
      "                if ag1 != ag2:\n",
      "                    break\n",
      "            agent1 = self.population[ag1]\n",
      "            agent2 = self.population[ag2]\n",
      "            temp1 = agent1;\n",
      "            temp2 = agent2;\n",
      "            agent1.Interact(temp2)\n",
      "            agent2.Interact(temp1)\n",
      "        # Populating the agent's opinions matrix\n",
      "        opinion1 = list()\n",
      "        opinion2 = list()\n",
      "        for agent in self.population:\n",
      "            opinion1.append(agent.opinion[0])\n",
      "        for agent in self.population:\n",
      "            opinion2.append(agent.opinion[1])\n",
      "            \n",
      "        plt.plot(opinion1, opinion2, 'ro')\n",
      "        return opinion1, opinion2\n",
      "            "
     ],
     "language": "python",
     "metadata": {},
     "outputs": [],
     "prompt_number": 7
    },
    {
     "cell_type": "code",
     "collapsed": false,
     "input": [
      "if __name__ == '__main__':\n",
      "    \n",
      "     \n",
      "    random.seed(1)\n",
      "        \n",
      "    aSim = Sim()\n",
      "    aSim.Run()"
     ],
     "language": "python",
     "metadata": {},
     "outputs": [],
     "prompt_number": "*"
    },
    {
     "cell_type": "code",
     "collapsed": false,
     "input": [],
     "language": "python",
     "metadata": {},
     "outputs": []
    }
   ],
   "metadata": {}
  }
 ]
}